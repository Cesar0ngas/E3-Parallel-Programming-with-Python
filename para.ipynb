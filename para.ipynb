{
 "cells": [
  {
   "cell_type": "code",
   "execution_count": 7,
   "metadata": {},
   "outputs": [],
   "source": [
    "import math\n",
    "import time\n",
    "\n",
    "def f(x):\n",
    "    return math.sqrt(1 - x**2)\n",
    "\n",
    "def compute_pi(N):\n",
    "    total_sum = 0\n",
    "    dx = 1.0 / N\n",
    "    for i in range(N):\n",
    "        xi = i * dx\n",
    "        total_sum += f(xi) * dx\n",
    "    return 4 * total_sum"
   ]
  },
  {
   "cell_type": "code",
   "execution_count": 8,
   "metadata": {},
   "outputs": [
    {
     "name": "stdout",
     "output_type": "stream",
     "text": [
      "Approximated pi = 3.1415946524138207\n",
      "Execution Time: 0.2561056613922119 seconds\n"
     ]
    }
   ],
   "source": [
    "# Ejemplo de uso\n",
    "N = 1000000\n",
    "\n",
    "start_time = time.time()\n",
    "pi_approx = compute_pi(N)\n",
    "end_time = time.time()\n",
    "\n",
    "print(f\"Approximated pi = {pi_approx}\")\n",
    "print(f\"Execution Time: {end_time - start_time} seconds\")"
   ]
  }
 ],
 "metadata": {
  "kernelspec": {
   "display_name": "hpc_2",
   "language": "python",
   "name": "python3"
  },
  "language_info": {
   "codemirror_mode": {
    "name": "ipython",
    "version": 3
   },
   "file_extension": ".py",
   "mimetype": "text/x-python",
   "name": "python",
   "nbconvert_exporter": "python",
   "pygments_lexer": "ipython3",
   "version": "3.12.3"
  }
 },
 "nbformat": 4,
 "nbformat_minor": 2
}
