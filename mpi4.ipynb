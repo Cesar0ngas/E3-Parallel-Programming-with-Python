{
 "cells": [
  {
   "cell_type": "code",
   "execution_count": 5,
   "metadata": {},
   "outputs": [],
   "source": [
    "from mpi4py import MPI\n",
    "import math\n",
    "import time\n",
    "\n",
    "def f(x):\n",
    "    return math.sqrt(1 - x**2)\n",
    "\n",
    "def compute_pi_mpi(N):\n",
    "    comm = MPI.COMM_WORLD\n",
    "    size = comm.Get_size()\n",
    "    rank = comm.Get_rank()\n",
    "    \n",
    "    dx = 1.0 / N\n",
    "    local_n = N // size\n",
    "    local_start = rank * local_n\n",
    "    local_end = local_start + local_n if rank != size - 1 else N\n",
    "    \n",
    "    local_start_time = MPI.Wtime()\n",
    "    \n",
    "    local_sum = sum(f(i * dx) * dx for i in range(local_start, local_end))\n",
    "    total_sum = comm.reduce(local_sum, op=MPI.SUM, root=0)\n",
    "    \n",
    "    local_end_time = MPI.Wtime()\n",
    "\n",
    "    max_time = comm.reduce(local_end_time - local_start_time, op=MPI.MAX, root=0)\n",
    "    \n",
    "    if rank == 0:\n",
    "        return 4 * total_sum, max_time"
   ]
  },
  {
   "cell_type": "code",
   "execution_count": 6,
   "metadata": {},
   "outputs": [
    {
     "name": "stdout",
     "output_type": "stream",
     "text": [
      "Approximated pi = 3.1415946524138114\n",
      "Max Execution Time: 0.27675900000031106 seconds\n"
     ]
    }
   ],
   "source": [
    "if __name__ == \"__main__\":\n",
    "    N = 1000000\n",
    "    result = compute_pi_mpi(N)\n",
    "    if MPI.COMM_WORLD.Get_rank() == 0:\n",
    "        pi_approx, max_execution_time = result\n",
    "        print(f\"Approximated pi = {pi_approx}\")\n",
    "        print(f\"Max Execution Time: {max_execution_time} seconds\")"
   ]
  }
 ],
 "metadata": {
  "kernelspec": {
   "display_name": "hpc_2",
   "language": "python",
   "name": "python3"
  },
  "language_info": {
   "codemirror_mode": {
    "name": "ipython",
    "version": 3
   },
   "file_extension": ".py",
   "mimetype": "text/x-python",
   "name": "python",
   "nbconvert_exporter": "python",
   "pygments_lexer": "ipython3",
   "version": "3.12.3"
  }
 },
 "nbformat": 4,
 "nbformat_minor": 2
}
