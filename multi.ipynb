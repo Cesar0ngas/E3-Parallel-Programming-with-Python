{
 "cells": [
  {
   "cell_type": "code",
   "execution_count": 1,
   "metadata": {},
   "outputs": [],
   "source": [
    "from multiprocessing import Pool\n",
    "import math\n",
    "\n",
    "def f(x):\n",
    "    return math.sqrt(1 - x**2)\n",
    "\n",
    "def partial_sum(args):\n",
    "    start, end, dx = args\n",
    "    subtotal = 0\n",
    "    for i in range(start, end):\n",
    "        xi = i * dx\n",
    "        subtotal += f(xi) * dx\n",
    "    return subtotal\n",
    "\n",
    "def compute_pi(N, num_processes):\n",
    "    dx = 1.0 / N\n",
    "    # Creando una lista de tuplas con los argumentos necesarios para cada proceso\n",
    "    ranges = [(int(i * N / num_processes), int((i + 1) * N / num_processes), dx) for i in range(num_processes)]\n",
    "    with Pool(processes=num_processes) as pool:\n",
    "        # Usando map para pasar los argumentos a la función partial_sum\n",
    "        results = pool.map(partial_sum, ranges)\n",
    "    return 4 * sum(results)"
   ]
  },
  {
   "cell_type": "code",
   "execution_count": 2,
   "metadata": {},
   "outputs": [],
   "source": [
    "N = 1000000\n",
    "num_processes = 4\n",
    "pi_approx = compute_pi(N, num_processes)\n",
    "print(f\"Approximated pi = {pi_approx}\")"
   ]
  }
 ],
 "metadata": {
  "kernelspec": {
   "display_name": "hpc",
   "language": "python",
   "name": "python3"
  },
  "language_info": {
   "codemirror_mode": {
    "name": "ipython",
    "version": 3
   },
   "file_extension": ".py",
   "mimetype": "text/x-python",
   "name": "python",
   "nbconvert_exporter": "python",
   "pygments_lexer": "ipython3",
   "version": "3.12.2"
  }
 },
 "nbformat": 4,
 "nbformat_minor": 2
}
