{
  "nbformat": 4,
  "nbformat_minor": 0,
  "metadata": {
    "colab": {
      "provenance": []
    },
    "kernelspec": {
      "name": "python3",
      "display_name": "Python 3"
    },
    "language_info": {
      "name": "python"
    }
  },
  "cells": [
    {
      "cell_type": "code",
      "source": [
        "import time"
      ],
      "metadata": {
        "id": "kZ38IyvPUKJk"
      },
      "execution_count": 14,
      "outputs": []
    },
    {
      "cell_type": "markdown",
      "source": [
        "# **Multiprocessing**"
      ],
      "metadata": {
        "id": "AYQUdHu4TD-k"
      }
    },
    {
      "cell_type": "code",
      "execution_count": 16,
      "metadata": {
        "id": "YokhN4EhRsKJ"
      },
      "outputs": [],
      "source": [
        "from multiprocessing import Pool\n",
        "import math\n",
        "\n",
        "def f(x):\n",
        "    return math.sqrt(1 - x**2)\n",
        "\n",
        "def partial_sum(args):\n",
        "    start, end, dx = args\n",
        "    subtotal = 0\n",
        "    for i in range(start, end):\n",
        "        xi = i * dx\n",
        "        subtotal += f(xi) * dx\n",
        "    return subtotal\n",
        "\n",
        "def compute_pi(N, num_processes):\n",
        "    dx = 1.0 / N\n",
        "    ranges = [(int(i * N / num_processes), int((i + 1) * N / num_processes), dx) for i in range(num_processes)]\n",
        "    with Pool(processes=num_processes) as pool:\n",
        "        results = pool.map(partial_sum, ranges)\n",
        "    return 4 * sum(results)"
      ]
    },
    {
      "cell_type": "code",
      "source": [
        "# Ejemplo de uso\n",
        "N = 1000000\n",
        "num_processes = 4\n",
        "\n",
        "start_time = time.time()\n",
        "pi_approx = compute_pi(N, num_processes)\n",
        "end_time = time.time()\n",
        "\n",
        "print(f\"Approximated pi = {pi_approx}\")\n",
        "print(f\"Execution Time: {end_time - start_time} seconds\")"
      ],
      "metadata": {
        "colab": {
          "base_uri": "https://localhost:8080/"
        },
        "id": "EBiep_t8Ru3H",
        "outputId": "e9082c87-00a9-49e6-d9eb-8e250638a33f"
      },
      "execution_count": 17,
      "outputs": [
        {
          "output_type": "stream",
          "name": "stdout",
          "text": [
            "Approximated pi = 3.141594652413769\n",
            "Execution Time: 0.4386017322540283 seconds\n"
          ]
        }
      ]
    },
    {
      "cell_type": "markdown",
      "source": [
        "# **Paralelization**"
      ],
      "metadata": {
        "id": "B4KCvbxHTG3h"
      }
    },
    {
      "cell_type": "code",
      "source": [
        "import math\n",
        "\n",
        "def f(x):\n",
        "    return math.sqrt(1 - x**2)\n",
        "\n",
        "def compute_pi(N):\n",
        "    total_sum = 0\n",
        "    dx = 1.0 / N\n",
        "    for i in range(N):\n",
        "        xi = i * dx\n",
        "        total_sum += f(xi) * dx\n",
        "    return 4 * total_sum"
      ],
      "metadata": {
        "id": "cUjOAQJRSLJE"
      },
      "execution_count": 18,
      "outputs": []
    },
    {
      "cell_type": "code",
      "source": [
        "N = 1000000\n",
        "\n",
        "start_time = time.time()\n",
        "pi_approx = compute_pi(N)\n",
        "end_time = time.time()\n",
        "\n",
        "print(f\"Approximated pi = {pi_approx}\")\n",
        "print(f\"Execution Time: {end_time - start_time} seconds\")"
      ],
      "metadata": {
        "colab": {
          "base_uri": "https://localhost:8080/"
        },
        "id": "n3RT_M98SMQa",
        "outputId": "c105516d-29b9-449d-bac8-62f9a5f344b7"
      },
      "execution_count": 19,
      "outputs": [
        {
          "output_type": "stream",
          "name": "stdout",
          "text": [
            "Approximated pi = 3.1415946524138207\n",
            "Execution Time: 0.3948206901550293 seconds\n"
          ]
        }
      ]
    },
    {
      "cell_type": "markdown",
      "source": [
        "# **Mpi4py**"
      ],
      "metadata": {
        "id": "zGnJC52eTI74"
      }
    },
    {
      "cell_type": "code",
      "source": [
        "!pip install mpi4py"
      ],
      "metadata": {
        "colab": {
          "base_uri": "https://localhost:8080/"
        },
        "id": "V7ORFvzDSUGc",
        "outputId": "f1ad9700-b89e-4790-eb76-b6b05dcc6e6b"
      },
      "execution_count": 6,
      "outputs": [
        {
          "output_type": "stream",
          "name": "stdout",
          "text": [
            "Collecting mpi4py\n",
            "  Downloading mpi4py-3.1.6.tar.gz (2.4 MB)\n",
            "\u001b[?25l     \u001b[90m━━━━━━━━━━━━━━━━━━━━━━━━━━━━━━━━━━━━━━━━\u001b[0m \u001b[32m0.0/2.4 MB\u001b[0m \u001b[31m?\u001b[0m eta \u001b[36m-:--:--\u001b[0m\r\u001b[2K     \u001b[91m━━━\u001b[0m\u001b[91m╸\u001b[0m\u001b[90m━━━━━━━━━━━━━━━━━━━━━━━━━━━━━━━━━━━━\u001b[0m \u001b[32m0.2/2.4 MB\u001b[0m \u001b[31m6.7 MB/s\u001b[0m eta \u001b[36m0:00:01\u001b[0m\r\u001b[2K     \u001b[91m━━━━━━━━━━━━━━━━━━━━━━━━━━━━━━━━━━━━━━━\u001b[0m\u001b[91m╸\u001b[0m \u001b[32m2.4/2.4 MB\u001b[0m \u001b[31m42.8 MB/s\u001b[0m eta \u001b[36m0:00:01\u001b[0m\r\u001b[2K     \u001b[90m━━━━━━━━━━━━━━━━━━━━━━━━━━━━━━━━━━━━━━━━\u001b[0m \u001b[32m2.4/2.4 MB\u001b[0m \u001b[31m30.1 MB/s\u001b[0m eta \u001b[36m0:00:00\u001b[0m\n",
            "\u001b[?25h  Installing build dependencies ... \u001b[?25l\u001b[?25hdone\n",
            "  Getting requirements to build wheel ... \u001b[?25l\u001b[?25hdone\n",
            "  Preparing metadata (pyproject.toml) ... \u001b[?25l\u001b[?25hdone\n",
            "Building wheels for collected packages: mpi4py\n",
            "  Building wheel for mpi4py (pyproject.toml) ... \u001b[?25l\u001b[?25hdone\n",
            "  Created wheel for mpi4py: filename=mpi4py-3.1.6-cp310-cp310-linux_x86_64.whl size=2746302 sha256=d5c18e16a1637cb450631255865e6cbeaf8a48b357d1999f14b3cb18843a5d15\n",
            "  Stored in directory: /root/.cache/pip/wheels/4c/ca/89/8fc1fb1c620afca13bb41c630b1f948bbf446e0aaa4b762e10\n",
            "Successfully built mpi4py\n",
            "Installing collected packages: mpi4py\n",
            "Successfully installed mpi4py-3.1.6\n"
          ]
        }
      ]
    },
    {
      "cell_type": "code",
      "source": [
        "from mpi4py import MPI\n",
        "import math\n",
        "\n",
        "def f(x):\n",
        "    return math.sqrt(1 - x**2)\n",
        "\n",
        "def compute_pi_mpi(N):\n",
        "    comm = MPI.COMM_WORLD\n",
        "    size = comm.Get_size()\n",
        "    rank = comm.Get_rank()\n",
        "\n",
        "    dx = 1.0 / N\n",
        "    local_n = N // size\n",
        "    local_start = rank * local_n\n",
        "    local_end = local_start + local_n if rank != size - 1 else N\n",
        "\n",
        "    local_start_time = MPI.Wtime()\n",
        "\n",
        "    local_sum = sum(f(i * dx) * dx for i in range(local_start, local_end))\n",
        "    total_sum = comm.reduce(local_sum, op=MPI.SUM, root=0)\n",
        "\n",
        "    local_end_time = MPI.Wtime()\n",
        "\n",
        "    max_time = comm.reduce(local_end_time - local_start_time, op=MPI.MAX, root=0)\n",
        "\n",
        "    if rank == 0:\n",
        "        return 4 * total_sum, max_time"
      ],
      "metadata": {
        "id": "AjiSRY3iSP1R"
      },
      "execution_count": 23,
      "outputs": []
    },
    {
      "cell_type": "code",
      "source": [
        "if __name__ == \"__main__\":\n",
        "    N = 1000000\n",
        "    result = compute_pi_mpi(N)\n",
        "    if MPI.COMM_WORLD.Get_rank() == 0:\n",
        "        pi_approx, max_execution_time = result\n",
        "        print(f\"Approximated pi = {pi_approx}\")\n",
        "        print(f\"Execution Time: {max_execution_time} seconds\")"
      ],
      "metadata": {
        "colab": {
          "base_uri": "https://localhost:8080/"
        },
        "id": "2H0F2yrNSQ2-",
        "outputId": "186de5fb-2b7f-40a0-8696-a777296953aa"
      },
      "execution_count": 24,
      "outputs": [
        {
          "output_type": "stream",
          "name": "stdout",
          "text": [
            "Approximated pi = 3.1415946524138207\n",
            "Execution Time: 0.3725428569999849 seconds\n"
          ]
        }
      ]
    }
  ]
}